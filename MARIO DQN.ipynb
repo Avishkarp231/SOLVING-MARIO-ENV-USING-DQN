{
 "cells": [
  {
   "cell_type": "code",
   "execution_count": 2,
   "metadata": {
    "executionInfo": {
     "elapsed": 1936,
     "status": "ok",
     "timestamp": 1664289470347,
     "user": {
      "displayName": "Avishkar Pawar",
      "userId": "16901583566959480926"
     },
     "user_tz": -330
    },
    "id": "BGwtsCowHmin"
   },
   "outputs": [
    {
     "name": "stderr",
     "output_type": "stream",
     "text": [
      "2023-06-11 20:07:53.211761: I tensorflow/core/util/util.cc:169] oneDNN custom operations are on. You may see slightly different numerical results due to floating-point round-off errors from different computation orders. To turn them off, set the environment variable `TF_ENABLE_ONEDNN_OPTS=0`.\n"
     ]
    }
   ],
   "source": [
    "import gym_super_mario_bros\n",
    "import tensorflow as tf\n",
    "import gym\n",
    "import numpy as np\n",
    "import random\n",
    "from collections import deque\n",
    "import keras"
   ]
  },
  {
   "cell_type": "code",
   "execution_count": 3,
   "metadata": {
    "executionInfo": {
     "elapsed": 4,
     "status": "ok",
     "timestamp": 1664289470347,
     "user": {
      "displayName": "Avishkar Pawar",
      "userId": "16901583566959480926"
     },
     "user_tz": -330
    },
    "id": "-wmL17QRIJ23"
   },
   "outputs": [],
   "source": [
    "from tensorflow.keras.layers import Dense,Activation, Flatten, Conv2D,MaxPooling2D\n",
    "from tensorflow.keras.models import Sequential\n",
    "from tensorflow.keras.optimizers import Adam"
   ]
  },
  {
   "cell_type": "code",
   "execution_count": 4,
   "metadata": {
    "executionInfo": {
     "elapsed": 3,
     "status": "ok",
     "timestamp": 1664289470347,
     "user": {
      "displayName": "Avishkar Pawar",
      "userId": "16901583566959480926"
     },
     "user_tz": -330
    },
    "id": "54-DcaVVIqQK"
   },
   "outputs": [],
   "source": [
    "from gym_super_mario_bros.actions import RIGHT_ONLY\n",
    "from nes_py.wrappers import JoypadSpace"
   ]
  },
  {
   "cell_type": "code",
   "execution_count": 5,
   "metadata": {
    "executionInfo": {
     "elapsed": 2,
     "status": "ok",
     "timestamp": 1664289470347,
     "user": {
      "displayName": "Avishkar Pawar",
      "userId": "16901583566959480926"
     },
     "user_tz": -330
    },
    "id": "sY_CrYeSN1Le"
   },
   "outputs": [],
   "source": [
    "from gym.wrappers import GrayScaleObservation\n",
    "from matplotlib import pyplot as plt"
   ]
  },
  {
   "cell_type": "code",
   "execution_count": 6,
   "metadata": {
    "colab": {
     "base_uri": "https://localhost:8080/"
    },
    "executionInfo": {
     "elapsed": 1888,
     "status": "ok",
     "timestamp": 1664289472233,
     "user": {
      "displayName": "Avishkar Pawar",
      "userId": "16901583566959480926"
     },
     "user_tz": -330
    },
    "id": "AEZ4smYNJAOB",
    "outputId": "6eca07cb-0491-4bab-dd56-6980824fa92c"
   },
   "outputs": [],
   "source": [
    "env = gym_super_mario_bros.make('SuperMarioBros-v1')\n",
    "env = JoypadSpace(env, [['NOOP'], ['right'], ['right', 'A']])\n",
    "# env = GrayScaleObservation(env, keep_dim=True)\n"
   ]
  },
  {
   "cell_type": "code",
   "execution_count": 7,
   "metadata": {
    "executionInfo": {
     "elapsed": 19,
     "status": "ok",
     "timestamp": 1664289472234,
     "user": {
      "displayName": "Avishkar Pawar",
      "userId": "16901583566959480926"
     },
     "user_tz": -330
    },
    "id": "khgRpX1AMVH6"
   },
   "outputs": [],
   "source": [
    "from IPython import display as ipythondisplay"
   ]
  },
  {
   "cell_type": "code",
   "execution_count": 8,
   "metadata": {
    "executionInfo": {
     "elapsed": 2,
     "status": "ok",
     "timestamp": 1664289659894,
     "user": {
      "displayName": "Avishkar Pawar",
      "userId": "16901583566959480926"
     },
     "user_tz": -330
    },
    "id": "vmKjw0CtL-iD"
   },
   "outputs": [],
   "source": [
    "class DqnAgent:\n",
    "  def __init__(self,state_size,action_size,env,skip=4):\n",
    "    self.state_space = state_size\n",
    "    self.action_space = action_size\n",
    "    self.action=0\n",
    "    self.memory = deque(maxlen=5000)\n",
    "    self.skip=skip\n",
    "    self.abs = 0.85\n",
    "    self.max_abs=0.85\n",
    "    self.min_abs=0.01\n",
    "    self.decay_abs = 0.001\n",
    "    self.environment=env\n",
    "    self.gamma  = 0.9\n",
    "    \n",
    "    self.main_network = self.build_model()\n",
    "    self.target_network = self.build_model()\n",
    "    self.update_target()\n",
    "  \n",
    "  def build_model(self):\n",
    "    model = Sequential()\n",
    "\n",
    "    model.add(Conv2D(64,(4,4),strides=4,padding=\"same\",input_shape=self.state_space))\n",
    "    model.add(Activation('relu'))\n",
    "\n",
    "    model.add(Conv2D(64,(4,4),strides=2,padding='same'))\n",
    "    model.add(Activation('relu'))\n",
    "\n",
    "    model.add(Conv2D(64,(4,4),strides=2,padding='same'))\n",
    "    model.add(Activation('relu'))\n",
    "    model.add(Flatten())\n",
    "\n",
    "    model.add(Dense(512,activation=\"relu\"))\n",
    "    model.add(Dense(256,activation=\"relu\"))\n",
    "    model.add(Dense(self.action_space,activation=\"linear\"))\n",
    "\n",
    "    model.compile(loss='mse',optimizer=Adam())\n",
    "    return model\n",
    "\n",
    "  def update_target(self):\n",
    "    self.target_network.set_weights(self.main_network.get_weights())\n",
    "\n",
    "  def act(self,state,on_ground):\n",
    "    if on_ground<90:\n",
    "      if random.uniform(0,1)<self.abs:\n",
    "        return  env.action_space.sample()\n",
    "      \n",
    "      Q_value = self.main_network.predict(state)\n",
    "      self.action= np.argmax(Q_value[0])\n",
    "      return self.action\n",
    "    else:\n",
    "      return self.action\n",
    "\n",
    "\n",
    "  def update_abs(self,episode):\n",
    "    self.abs = self.min_abs+(self.max_abs-self.min_abs)*np.exp(-self.decay_abs*episode)\n",
    "\n",
    "  def train(self,batch_size):\n",
    "    minibatch = random.sample(self.memory,batch_size)\n",
    "\n",
    "    for state,action,reward,next_state,done in minibatch:\n",
    "      target = self.main_network.predict(state)\n",
    "\n",
    "      if done:\n",
    "        target[0][action] = reward\n",
    "      else:\n",
    "        target[0][action] = (reward+self.gamma*np.amax(self.target_network(next_state)))\n",
    "        \n",
    "      self.main_network.fit(state,target,epochs=1,verbose=0)\n",
    "\n",
    "  def store_memory(self,state,action,reward,next_state,done):\n",
    "      self.memory.append((state,action,reward,next_state,done))\n",
    "    \n",
    "  def save_model(self,name):\n",
    "    self.main_network.save(name)\n",
    "    \n",
    "  def load_model(self,name):\n",
    "    self.main_network = keras.models.load_model(name)\n",
    "    self.target_network = keras.models.load_model(name)\n",
    "    \n",
    "  def step(self,action):\n",
    "        t_r=0\n",
    "        done = False\n",
    "        for i in range(self.skip):\n",
    "            state,reward,done,info = self.environment.step(action)\n",
    "            t_r+=reward\n",
    "            \n",
    "            if done:\n",
    "                break\n",
    "        return state,t_r,done,info"
   ]
  },
  {
   "cell_type": "code",
   "execution_count": 9,
   "metadata": {
    "executionInfo": {
     "elapsed": 18,
     "status": "ok",
     "timestamp": 1664289472234,
     "user": {
      "displayName": "Avishkar Pawar",
      "userId": "16901583566959480926"
     },
     "user_tz": -330
    },
    "id": "2Sst8mp_scH_"
   },
   "outputs": [],
   "source": [
    "from PIL import Image"
   ]
  },
  {
   "cell_type": "code",
   "execution_count": 10,
   "metadata": {
    "executionInfo": {
     "elapsed": 18,
     "status": "ok",
     "timestamp": 1664289472234,
     "user": {
      "displayName": "Avishkar Pawar",
      "userId": "16901583566959480926"
     },
     "user_tz": -330
    },
    "id": "YGuoHmo3svfn"
   },
   "outputs": [],
   "source": [
    "def preprocessing(state):\n",
    "  image = Image.fromarray(state)\n",
    "  image = image.resize((88,80))\n",
    "  image = image.convert('L')\n",
    "  image = np.array(image)\n",
    "\n",
    "  return image"
   ]
  },
  {
   "cell_type": "code",
   "execution_count": 11,
   "metadata": {
    "executionInfo": {
     "elapsed": 19,
     "status": "ok",
     "timestamp": 1664289472235,
     "user": {
      "displayName": "Avishkar Pawar",
      "userId": "16901583566959480926"
     },
     "user_tz": -330
    },
    "id": "kHy2-_qbtT6Y"
   },
   "outputs": [],
   "source": [
    "action_space =  env.action_space.n\n",
    "state_size = (80,88,1)"
   ]
  },
  {
   "cell_type": "code",
   "execution_count": 12,
   "metadata": {
    "executionInfo": {
     "elapsed": 19,
     "status": "ok",
     "timestamp": 1664289472235,
     "user": {
      "displayName": "Avishkar Pawar",
      "userId": "16901583566959480926"
     },
     "user_tz": -330
    },
    "id": "-Zm12puZuh4Q"
   },
   "outputs": [],
   "source": [
    "num_eps= 100\n",
    "num_timestep = 4000\n",
    "batch_size = 64"
   ]
  },
  {
   "cell_type": "code",
   "execution_count": 13,
   "metadata": {
    "colab": {
     "base_uri": "https://localhost:8080/",
     "height": 380
    },
    "executionInfo": {
     "elapsed": 58760,
     "status": "error",
     "timestamp": 1664290305906,
     "user": {
      "displayName": "Avishkar Pawar",
      "userId": "16901583566959480926"
     },
     "user_tz": -330
    },
    "id": "l289GUNwwekT",
    "outputId": "4aed79ef-4f71-40cc-bc44-caa84f1356ed"
   },
   "outputs": [
    {
     "name": "stdout",
     "output_type": "stream",
     "text": [
      "{'coins': 2, 'flag_get': False, 'life': 0, 'score': 800, 'stage': 1, 'status': 'small', 'time': 0, 'world': 1, 'x_pos': 722, 'x_pos_screen': 87, 'y_pos': 93}\n",
      "episode: 4 total reward: 1668.0 abs: 0.8474837762228334\n"
     ]
    }
   ],
   "source": [
    "import time\n",
    "from IPython.display import clear_output\n",
    "\n",
    "dqn =  DqnAgent(state_size,action_space,env)\n",
    "history= []\n",
    "stuck_buffer = deque(maxlen=300)\n",
    "for i in range(num_eps):\n",
    "  total_reward= 0\n",
    "  done =False\n",
    "  time_step=0\n",
    "  on_ground =79\n",
    "  state = preprocessing(env.reset())\n",
    "  state = state.reshape(-1,80,88,1)\n",
    "  \n",
    "\n",
    "  for t in range(num_timestep):\n",
    "    time_step+=1\n",
    "    env.render()\n",
    "    \n",
    "    if t>1  and stuck_buffer.count(stuck_buffer[-1])>150:\n",
    "        action = dqn.act(state,79)\n",
    "    else:\n",
    "        action = dqn.act(state,on_ground)\n",
    "\n",
    "    next_state,reward,done,info = dqn.step(action)\n",
    "    on_ground = info['y_pos']\n",
    "    stuck_buffer.append(info['x_pos'])\n",
    "    next_state =  preprocessing(next_state)\n",
    "    next_state = next_state.reshape(-1,80,88,1)\n",
    "\n",
    "    dqn.store_memory(state,action,reward,next_state,done)\n",
    "    state= next_state\n",
    "\n",
    "    total_reward +=  reward\n",
    "    if done:\n",
    "      break\n",
    "    print(info)\n",
    "    print(\"episode: {} total reward: {} abs: {}\".format(str(i),str(total_reward),str(dqn.abs)))\n",
    "    clear_output(wait=True)\n",
    "\n",
    "    if  len(dqn.memory)>batch_size  and i%5==0 and i!=0:\n",
    "      dqn.train(batch_size)\n",
    "  \n",
    "  dqn.update_abs(i)\n",
    "  dqn.update_target()\n",
    "\n",
    "  if i%5==0:\n",
    "        name = \"v1_model_after\"+str(i)+\"episodes.h5\"\n",
    "        dqn.save_model(name)\n",
    "  history.append(total_reward)\n",
    "env.close()\n",
    "  "
   ]
  },
  {
   "cell_type": "code",
   "execution_count": 14,
   "metadata": {},
   "outputs": [
    {
     "data": {
      "text/plain": [
       "[<matplotlib.lines.Line2D at 0x7f06f51f7cd0>]"
      ]
     },
     "execution_count": 14,
     "metadata": {},
     "output_type": "execute_result"
    },
    {
     "data": {
      "image/png": "[encoded data removed]",
      "text/plain": [
       "<Figure size 432x288 with 1 Axes>"
      ]
     },
     "metadata": {
      "needs_background": "light"
     },
     "output_type": "display_data"
    }
   ],
   "source": [
    "import matplotlib.pyplot as plt\n",
    "plt.plot(history)"
   ]
  },
  {
   "cell_type": "code",
   "execution_count": 15,
   "metadata": {},
   "outputs": [],
   "source": [
    "name = \"v1_model_after\"+str(4)+\"episodes.h5\""
   ]
  },
  {
   "cell_type": "code",
   "execution_count": null,
   "metadata": {},
   "outputs": [],
   "source": [
    "dqn =  DqnAgent(state_size,action_space,env)\n",
    "dqn.load_model(name)\n",
    "for i in range(10):\n",
    "    total_reward= 0\n",
    "    done =False\n",
    "    time_step=0\n",
    "    on_ground =79\n",
    "    state = preprocessing(env.reset())\n",
    "    state = state.reshape(-1,80,88,1)\n",
    "    \n",
    "    while not done:\n",
    "        env.render()\n",
    "        action = np.argmax(dqn.main_network.predict(state))\n",
    "        next_state,reward,done,info = env.step(action)\n",
    "        \n",
    "        next_state = preprocessing(next_state)\n",
    "        \n",
    "        state = next_state\n",
    "        \n",
    "        total_reward+=reward\n",
    "    print(\"episode: {} total reward: {}\".format(str(i),str(total_reward)))\n"
   ]
  },
  {
   "cell_type": "code",
   "execution_count": null,
   "metadata": {},
   "outputs": [],
   "source": []
  }
 ],
 "metadata": {
  "accelerator": "GPU",
  "colab": {
   "authorship_tag": "ABX9TyMDwK9AJcnmvDu/6I6jZRp0",
   "provenance": []
  },
  "kernelspec": {
   "display_name": "Python 3 (ipykernel)",
   "language": "python",
   "name": "python3"
  },
  "language_info": {
   "codemirror_mode": {
    "name": "ipython",
    "version": 3
   },
   "file_extension": ".py",
   "mimetype": "text/x-python",
   "name": "python",
   "nbconvert_exporter": "python",
   "pygments_lexer": "ipython3",
   "version": "3.10.4"
  }
 },
 "nbformat": 4,
 "nbformat_minor": 4
}
